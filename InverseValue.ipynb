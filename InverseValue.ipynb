{
  "nbformat": 4,
  "nbformat_minor": 0,
  "metadata": {
    "colab": {
      "name": "Hold-up-Copy1.ipynb",
      "version": "0.3.2",
      "provenance": [],
      "collapsed_sections": [],
      "include_colab_link": true
    },
    "kernelspec": {
      "name": "python2",
      "display_name": "Python 2"
    },
    "accelerator": "GPU"
  },
  "cells": [
    {
      "cell_type": "markdown",
      "metadata": {
        "id": "view-in-github",
        "colab_type": "text"
      },
      "source": [
        "[View in Colaboratory](https://colab.research.google.com/github/yash12khandelwal/Data-Analysis/blob/master/InverseValue.ipynb)"
      ]
    },
    {
      "metadata": {
        "id": "kuoo_vNfJl0Z",
        "colab_type": "code",
        "colab": {}
      },
      "cell_type": "code",
      "source": [
        "#Import all the libraries required\n",
        "!pip install --upgrade -q gspread\n",
        "import matplotlib.pyplot as plt\n",
        "import math\n",
        "import numpy as np\n",
        "import gspread\n",
        "\n",
        "from google.colab import auth\n",
        "auth.authenticate_user()\n",
        "\n",
        "from oauth2client.client import GoogleCredentials\n",
        "\n",
        "#Create a google sheet named Data\n",
        "gc = gspread.authorize(GoogleCredentials.get_application_default())\n",
        "sh = gc.create('Data')"
      ],
      "execution_count": 0,
      "outputs": []
    },
    {
      "metadata": {
        "id": "hA6ceUaUJl0r",
        "colab_type": "code",
        "colab": {
          "base_uri": "https://localhost:8080/",
          "height": 34
        },
        "outputId": "835bed21-ac45-4495-e50f-52501cce5ef5"
      },
      "cell_type": "code",
      "source": [
        "#Testing the value at Pi\n",
        "pi = math.pi\n",
        "np.cos(pi/3)"
      ],
      "execution_count": 2,
      "outputs": [
        {
          "output_type": "execute_result",
          "data": {
            "text/plain": [
              "0.5000000000000001"
            ]
          },
          "metadata": {
            "tags": []
          },
          "execution_count": 2
        }
      ]
    },
    {
      "metadata": {
        "id": "MyY_JnbGJl07",
        "colab_type": "code",
        "colab": {}
      },
      "cell_type": "code",
      "source": [
        "#Enter the function whose inverse you want to calculate\n",
        "def f(x):\n",
        "    return (1/pi)*(((pi/2)-x)+((x-(pi/3))*((np.cos(x))**2)/(np.cos(x+pi/6))**2) + .5*(np.cos(x)/np.cos(x+pi/6)))"
      ],
      "execution_count": 0,
      "outputs": []
    },
    {
      "metadata": {
        "id": "hFxzxI0lJl1H",
        "colab_type": "code",
        "colab": {}
      },
      "cell_type": "code",
      "source": [
        "#Set the domian and value of each step(More steps -> More accuracy)\n",
        "z= np.arange(-pi/2,pi/2,0.0005)"
      ],
      "execution_count": 0,
      "outputs": []
    },
    {
      "metadata": {
        "id": "AEZMoMRUYeNU",
        "colab_type": "code",
        "colab": {
          "base_uri": "https://localhost:8080/",
          "height": 347
        },
        "outputId": "2a6abc85-f9eb-4159-f95c-6b0e489d10d4"
      },
      "cell_type": "code",
      "source": [
        "#Calculating value of function for all the values we created and in an array arr1{}\n",
        "arr1 = {}\n",
        "i = 0\n",
        "for xval in z:\n",
        "    arr1[i] = f(z)[i]\n",
        "    i = i + 1\n",
        "    plt.plot(z,f(z))"
      ],
      "execution_count": 5,
      "outputs": [
        {
          "output_type": "display_data",
          "data": {
            "image/png": "[encoded data removed]",
            "text/plain": [
              "<matplotlib.figure.Figure at 0x7f3fb84eb110>"
            ]
          },
          "metadata": {
            "tags": []
          }
        }
      ]
    },
    {
      "metadata": {
        "id": "gsJeCrVFhyu4",
        "colab_type": "code",
        "colab": {
          "base_uri": "https://localhost:8080/",
          "height": 1771
        },
        "outputId": "8575f59b-666e-422f-bdcf-75b3426305ea"
      },
      "cell_type": "code",
      "source": [
        "#Opening the spreadsheet frim which data is to be extracted\n",
        "worksheet = gc.open('Data').sheet1\n",
        "\n",
        "#Enter the number of rows which have data\n",
        "n = 101\n",
        "\n",
        "# get_all_values gives a list of rows.\n",
        "rows = worksheet.get_all_values()\n",
        "arr2 = {}\n",
        "for j in range(n):\n",
        "  arr2[j] = float((rows.pop(0)).pop(0))\n",
        "\n",
        "#Applying a loop for comparing the value from the dataset and all the values which we saved in arr1{} and the saving that value for which\n",
        "#difference is minimum. This value gives us the inverse value of the function\n",
        "for j in arr2:\n",
        "  mina = 1\n",
        "  count = 0\n",
        "  for i in arr1:\n",
        "    if np.minimum((np.absolute(arr1[i]-arr2[j])), mina) != mina:\n",
        "      mina = np.minimum((np.absolute(arr1[i]-arr2[j])), mina)\n",
        "      count = i\n",
        "  print(arr[count])"
      ],
      "execution_count": 51,
      "outputs": [
        {
          "output_type": "stream",
          "text": [
            "0.20220367320490817\n",
            "0.29970367320489744\n",
            "0.24670367320490327\n",
            "0.3137036732048959\n",
            "0.303703673204897\n",
            "0.38120367320488846\n",
            "0.3592036732048909\n",
            "0.4572036732048801\n",
            "0.4182036732048844\n",
            "0.4417036732048816\n",
            "0.39570367320488686\n",
            "0.4262036732048835\n",
            "-1.5707963267948966\n",
            "-1.5707963267948966\n",
            "-0.8322963267949779\n",
            "-0.668296326794996\n",
            "-0.42029632679502327\n",
            "-0.3012963267950364\n",
            "-0.030796326795066165\n",
            "0.06920367320492282\n",
            "0.07720367320492194\n",
            "0.10170367320491924\n",
            "0.085703673204921\n",
            "0.18570367320491\n",
            "0.17070367320491164\n",
            "0.23770367320490426\n",
            "-1.5707963267948966\n",
            "-1.5707963267948966\n",
            "-1.5707963267948966\n",
            "-1.0357963267949555\n",
            "-0.6942963267949931\n",
            "-0.49129632679501545\n",
            "-0.413796326795024\n",
            "-0.17779632679504997\n",
            "-0.10879632679505757\n",
            "-0.04129632679506501\n",
            "-0.012296326795068202\n",
            "0.003203673204930091\n",
            "-0.02629632679506666\n",
            "0.015703673204928714\n",
            "0.018703673204928384\n",
            "-1.5707963267948966\n",
            "-1.5707963267948966\n",
            "-1.5707963267948966\n",
            "-1.139796326794944\n",
            "-0.8487963267949761\n",
            "-0.6462963267949984\n",
            "-0.5277963267950114\n",
            "-0.36979632679502883\n",
            "-0.18679632679504898\n",
            "-0.18179632679504953\n",
            "-0.1657963267950513\n",
            "-0.09629632679505895\n",
            "-0.14229632679505388\n",
            "-0.1602963267950519\n",
            "-0.0912963267950595\n",
            "-1.5707963267948966\n",
            "-1.5707963267948966\n",
            "-1.5707963267948966\n",
            "-1.248796326794932\n",
            "-1.0157963267949577\n",
            "-0.8232963267949789\n",
            "-0.6902963267949935\n",
            "-0.5617963267950077\n",
            "-0.3392963267950322\n",
            "-0.2712963267950397\n",
            "-0.2192963267950454\n",
            "-0.2202963267950453\n",
            "-0.23129632679504408\n",
            "-0.23729632679504342\n",
            "-0.24579632679504249\n",
            "-1.5707963267948966\n",
            "-1.5707963267948966\n",
            "-1.5707963267948966\n",
            "-1.2007963267949373\n",
            "-1.067296326794952\n",
            "-0.9427963267949657\n",
            "-0.8622963267949746\n",
            "-0.622296326795001\n",
            "-0.46679632679501815\n",
            "-0.3747963267950283\n",
            "-0.368296326795029\n",
            "-0.3172963267950346\n",
            "-0.32879632679503334\n",
            "-0.3282963267950334\n",
            "-0.313796326795035\n",
            "-1.5707963267948966\n",
            "-1.5707963267948966\n",
            "-1.5707963267948966\n",
            "-1.2962963267949268\n",
            "-1.1982963267949376\n",
            "-1.0202963267949572\n",
            "-0.9082963267949695\n",
            "-0.7637963267949854\n",
            "-0.6092963267950025\n",
            "-0.5032963267950141\n",
            "-0.4472963267950203\n",
            "-0.37429632679502833\n",
            "-0.377296326795028\n",
            "-0.4052963267950249\n",
            "-0.37129632679502866\n"
          ],
          "name": "stdout"
        }
      ]
    }
  ]
}