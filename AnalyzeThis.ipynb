{
  "nbformat": 4,
  "nbformat_minor": 0,
  "metadata": {
    "colab": {
      "name": "AnalyzeThis.ipynb",
      "version": "0.3.2",
      "provenance": [],
      "include_colab_link": true
    },
    "kernelspec": {
      "name": "python3",
      "display_name": "Python 3"
    },
    "accelerator": "GPU"
  },
  "cells": [
    {
      "cell_type": "markdown",
      "metadata": {
        "id": "view-in-github",
        "colab_type": "text"
      },
      "source": [
        "[View in Colaboratory](https://colab.research.google.com/github/yash12khandelwal/Data-Analysis/blob/master/AnalyzeThis.ipynb)"
      ]
    },
    {
      "metadata": {
        "id": "D0CSidq4PeYq",
        "colab_type": "code",
        "colab": {}
      },
      "cell_type": "code",
      "source": [
        "# data analysis and wrangling\n",
        "import pandas as pd\n",
        "import numpy as np\n",
        "import io\n",
        "\n",
        "# visualization\n",
        "import seaborn as sns\n",
        "import matplotlib.pyplot as plt\n",
        "%matplotlib inline\n",
        "\n",
        "#import files\n",
        "from google.colab import files\n",
        "\n",
        "#models\n",
        "from sklearn.linear_model import LogisticRegression\n",
        "from sklearn.svm import SVC, LinearSVC\n",
        "from sklearn.ensemble import RandomForestClassifier\n",
        "from sklearn.neighbors import KNeighborsClassifier\n",
        "from sklearn.naive_bayes import GaussianNB\n",
        "from sklearn.linear_model import Perceptron\n",
        "from sklearn.linear_model import SGDClassifier\n",
        "from sklearn.tree import DecisionTreeClassifier\n",
        "from xgboost import XGBClassifier\n",
        "\n",
        "#data manipulation\n",
        "from sklearn.cross_validation import KFold\n",
        "from sklearn import metrics\n",
        "from sklearn.metrics import accuracy_score\n",
        "from sklearn.model_selection import train_test_split\n",
        "from sklearn.preprocessing import LabelEncoder\n",
        "from sklearn.cluster import KMeans"
      ],
      "execution_count": 0,
      "outputs": []
    },
    {
      "metadata": {
        "id": "52ZUlyx4Pi3T",
        "colab_type": "code",
        "colab": {
          "resources": {
            "http://localhost:8080/nbextensions/google.colab/files.js": {
              "data": "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",
              "ok": true,
              "headers": [
                [
                  "content-type",
                  "application/javascript"
                ]
              ],
              "status": 200,
              "status_text": "OK"
            }
          },
          "base_uri": "https://localhost:8080/",
          "height": 79
        },
        "outputId": "479e7e13-03cd-4b88-9585-aecffb700b0f"
      },
      "cell_type": "code",
      "source": [
        "#Upload train dataset\n",
        "train = files.upload()"
      ],
      "execution_count": 2,
      "outputs": [
        {
          "output_type": "display_data",
          "data": {
            "text/html": [
              "\n",
              "     <input type=\"file\" id=\"files-d9277583-6273-44b7-b25a-7d1ae43cc629\" name=\"files[]\" multiple disabled />\n",
              "     <output id=\"result-d9277583-6273-44b7-b25a-7d1ae43cc629\">\n",
              "      Upload widget is only available when the cell has been executed in the\n",
              "      current browser session. Please rerun this cell to enable.\n",
              "      </output>\n",
              "      <script src=\"/nbextensions/google.colab/files.js\"></script> "
            ],
            "text/plain": [
              "<IPython.core.display.HTML object>"
            ]
          },
          "metadata": {
            "tags": []
          }
        },
        {
          "output_type": "stream",
          "text": [
            "Saving Training_dataset_Original.csv to Training_dataset_Original.csv\n"
          ],
          "name": "stdout"
        }
      ]
    },
    {
      "metadata": {
        "id": "mcEPxVczEu6l",
        "colab_type": "code",
        "colab": {
          "resources": {
            "http://localhost:8080/nbextensions/google.colab/files.js": {
              "data": "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",
              "ok": true,
              "headers": [
                [
                  "content-type",
                  "application/javascript"
                ]
              ],
              "status": 200,
              "status_text": "OK"
            }
          },
          "base_uri": "https://localhost:8080/",
          "height": 79
        },
        "outputId": "acd4b139-aace-4f9b-cb81-286fcc8db187"
      },
      "cell_type": "code",
      "source": [
        "#Upload predict dataset\n",
        "predict1 = files.upload()"
      ],
      "execution_count": 5,
      "outputs": [
        {
          "output_type": "display_data",
          "data": {
            "text/html": [
              "\n",
              "     <input type=\"file\" id=\"files-dddef71a-42c0-4718-8e35-8e15ea168463\" name=\"files[]\" multiple disabled />\n",
              "     <output id=\"result-dddef71a-42c0-4718-8e35-8e15ea168463\">\n",
              "      Upload widget is only available when the cell has been executed in the\n",
              "      current browser session. Please rerun this cell to enable.\n",
              "      </output>\n",
              "      <script src=\"/nbextensions/google.colab/files.js\"></script> "
            ],
            "text/plain": [
              "<IPython.core.display.HTML object>"
            ]
          },
          "metadata": {
            "tags": []
          }
        },
        {
          "output_type": "stream",
          "text": [
            "Saving Predict.csv to Predict.csv\n"
          ],
          "name": "stdout"
        }
      ]
    },
    {
      "metadata": {
        "id": "aGFq_Yb3QAAL",
        "colab_type": "code",
        "colab": {}
      },
      "cell_type": "code",
      "source": [
        "#Read train and predict dataset\n",
        "df_train = pd.read_csv(io.StringIO(train['Training_dataset_Original.csv'].decode('utf-8')),na_values = ['na','missing','N/A','NaN'])\n",
        "df_predict = pd.read_csv(io.StringIO(predict['Leaderboard_dataset.csv'].decode('utf-8')),na_values = ['na','missing','N/A','NaN'])"
      ],
      "execution_count": 0,
      "outputs": []
    },
    {
      "metadata": {
        "id": "4gdF2b3XWZyb",
        "colab_type": "code",
        "colab": {
          "base_uri": "https://localhost:8080/",
          "height": 1524
        },
        "outputId": "a9a55575-e3c4-46aa-e1a8-b572dcdf020d"
      },
      "cell_type": "code",
      "source": [
        "total = df_train.isnull().sum().sort_values(ascending=False)\n",
        "percent = (df_train.isnull().sum()/df_train.isnull().count()).sort_values(ascending=False)\n",
        "missing_data = pd.concat([total, percent], axis=1, keys=['Total', 'Percent'])\n",
        "missing_data.head(47)"
      ],
      "execution_count": 36,
      "outputs": [
        {
          "output_type": "execute_result",
          "data": {
            "text/html": [
              "<div>\n",
              "<style scoped>\n",
              "    .dataframe tbody tr th:only-of-type {\n",
              "        vertical-align: middle;\n",
              "    }\n",
              "\n",
              "    .dataframe tbody tr th {\n",
              "        vertical-align: top;\n",
              "    }\n",
              "\n",
              "    .dataframe thead th {\n",
              "        text-align: right;\n",
              "    }\n",
              "</style>\n",
              "<table border=\"1\" class=\"dataframe\">\n",
              "  <thead>\n",
              "    <tr style=\"text-align: right;\">\n",
              "      <th></th>\n",
              "      <th>Total</th>\n",
              "      <th>Percent</th>\n",
              "    </tr>\n",
              "  </thead>\n",
              "  <tbody>\n",
              "    <tr>\n",
              "      <th>mvar40</th>\n",
              "      <td>62557</td>\n",
              "      <td>0.781963</td>\n",
              "    </tr>\n",
              "    <tr>\n",
              "      <th>mvar31</th>\n",
              "      <td>56218</td>\n",
              "      <td>0.702725</td>\n",
              "    </tr>\n",
              "    <tr>\n",
              "      <th>mvar41</th>\n",
              "      <td>54578</td>\n",
              "      <td>0.682225</td>\n",
              "    </tr>\n",
              "    <tr>\n",
              "      <th>mvar45</th>\n",
              "      <td>44855</td>\n",
              "      <td>0.560688</td>\n",
              "    </tr>\n",
              "    <tr>\n",
              "      <th>mvar11</th>\n",
              "      <td>44819</td>\n",
              "      <td>0.560238</td>\n",
              "    </tr>\n",
              "    <tr>\n",
              "      <th>mvar23</th>\n",
              "      <td>40248</td>\n",
              "      <td>0.503100</td>\n",
              "    </tr>\n",
              "    <tr>\n",
              "      <th>mvar30</th>\n",
              "      <td>36417</td>\n",
              "      <td>0.455213</td>\n",
              "    </tr>\n",
              "    <tr>\n",
              "      <th>mvar35</th>\n",
              "      <td>33014</td>\n",
              "      <td>0.412675</td>\n",
              "    </tr>\n",
              "    <tr>\n",
              "      <th>mvar15</th>\n",
              "      <td>32067</td>\n",
              "      <td>0.400838</td>\n",
              "    </tr>\n",
              "    <tr>\n",
              "      <th>mvar22</th>\n",
              "      <td>29124</td>\n",
              "      <td>0.364050</td>\n",
              "    </tr>\n",
              "    <tr>\n",
              "      <th>mvar46</th>\n",
              "      <td>22789</td>\n",
              "      <td>0.284863</td>\n",
              "    </tr>\n",
              "    <tr>\n",
              "      <th>mvar21</th>\n",
              "      <td>22561</td>\n",
              "      <td>0.282012</td>\n",
              "    </tr>\n",
              "    <tr>\n",
              "      <th>mvar6</th>\n",
              "      <td>18964</td>\n",
              "      <td>0.237050</td>\n",
              "    </tr>\n",
              "    <tr>\n",
              "      <th>mvar8</th>\n",
              "      <td>18964</td>\n",
              "      <td>0.237050</td>\n",
              "    </tr>\n",
              "    <tr>\n",
              "      <th>mvar24</th>\n",
              "      <td>18902</td>\n",
              "      <td>0.236275</td>\n",
              "    </tr>\n",
              "    <tr>\n",
              "      <th>mvar16</th>\n",
              "      <td>18510</td>\n",
              "      <td>0.231375</td>\n",
              "    </tr>\n",
              "    <tr>\n",
              "      <th>mvar17</th>\n",
              "      <td>15846</td>\n",
              "      <td>0.198075</td>\n",
              "    </tr>\n",
              "    <tr>\n",
              "      <th>mvar18</th>\n",
              "      <td>14771</td>\n",
              "      <td>0.184638</td>\n",
              "    </tr>\n",
              "    <tr>\n",
              "      <th>mvar12</th>\n",
              "      <td>14078</td>\n",
              "      <td>0.175975</td>\n",
              "    </tr>\n",
              "    <tr>\n",
              "      <th>mvar27</th>\n",
              "      <td>13209</td>\n",
              "      <td>0.165112</td>\n",
              "    </tr>\n",
              "    <tr>\n",
              "      <th>mvar9</th>\n",
              "      <td>11408</td>\n",
              "      <td>0.142600</td>\n",
              "    </tr>\n",
              "    <tr>\n",
              "      <th>mvar26</th>\n",
              "      <td>10610</td>\n",
              "      <td>0.132625</td>\n",
              "    </tr>\n",
              "    <tr>\n",
              "      <th>mvar13</th>\n",
              "      <td>8352</td>\n",
              "      <td>0.104400</td>\n",
              "    </tr>\n",
              "    <tr>\n",
              "      <th>mvar44</th>\n",
              "      <td>7745</td>\n",
              "      <td>0.096812</td>\n",
              "    </tr>\n",
              "    <tr>\n",
              "      <th>mvar37</th>\n",
              "      <td>7706</td>\n",
              "      <td>0.096325</td>\n",
              "    </tr>\n",
              "    <tr>\n",
              "      <th>mvar32</th>\n",
              "      <td>7706</td>\n",
              "      <td>0.096325</td>\n",
              "    </tr>\n",
              "    <tr>\n",
              "      <th>mvar25</th>\n",
              "      <td>7706</td>\n",
              "      <td>0.096325</td>\n",
              "    </tr>\n",
              "    <tr>\n",
              "      <th>mvar7</th>\n",
              "      <td>7394</td>\n",
              "      <td>0.092425</td>\n",
              "    </tr>\n",
              "    <tr>\n",
              "      <th>mvar39</th>\n",
              "      <td>6040</td>\n",
              "      <td>0.075500</td>\n",
              "    </tr>\n",
              "    <tr>\n",
              "      <th>mvar2</th>\n",
              "      <td>5553</td>\n",
              "      <td>0.069413</td>\n",
              "    </tr>\n",
              "    <tr>\n",
              "      <th>mvar1</th>\n",
              "      <td>3639</td>\n",
              "      <td>0.045488</td>\n",
              "    </tr>\n",
              "    <tr>\n",
              "      <th>mvar36</th>\n",
              "      <td>2898</td>\n",
              "      <td>0.036225</td>\n",
              "    </tr>\n",
              "    <tr>\n",
              "      <th>mvar42</th>\n",
              "      <td>1901</td>\n",
              "      <td>0.023762</td>\n",
              "    </tr>\n",
              "    <tr>\n",
              "      <th>mvar33</th>\n",
              "      <td>1751</td>\n",
              "      <td>0.021888</td>\n",
              "    </tr>\n",
              "    <tr>\n",
              "      <th>mvar43</th>\n",
              "      <td>818</td>\n",
              "      <td>0.010225</td>\n",
              "    </tr>\n",
              "    <tr>\n",
              "      <th>mvar20</th>\n",
              "      <td>502</td>\n",
              "      <td>0.006275</td>\n",
              "    </tr>\n",
              "    <tr>\n",
              "      <th>mvar34</th>\n",
              "      <td>502</td>\n",
              "      <td>0.006275</td>\n",
              "    </tr>\n",
              "    <tr>\n",
              "      <th>mvar29</th>\n",
              "      <td>502</td>\n",
              "      <td>0.006275</td>\n",
              "    </tr>\n",
              "    <tr>\n",
              "      <th>mvar28</th>\n",
              "      <td>502</td>\n",
              "      <td>0.006275</td>\n",
              "    </tr>\n",
              "    <tr>\n",
              "      <th>mvar38</th>\n",
              "      <td>502</td>\n",
              "      <td>0.006275</td>\n",
              "    </tr>\n",
              "    <tr>\n",
              "      <th>mvar10</th>\n",
              "      <td>502</td>\n",
              "      <td>0.006275</td>\n",
              "    </tr>\n",
              "    <tr>\n",
              "      <th>mvar5</th>\n",
              "      <td>501</td>\n",
              "      <td>0.006262</td>\n",
              "    </tr>\n",
              "    <tr>\n",
              "      <th>mvar3</th>\n",
              "      <td>501</td>\n",
              "      <td>0.006262</td>\n",
              "    </tr>\n",
              "    <tr>\n",
              "      <th>mvar4</th>\n",
              "      <td>501</td>\n",
              "      <td>0.006262</td>\n",
              "    </tr>\n",
              "    <tr>\n",
              "      <th>mvar19</th>\n",
              "      <td>4</td>\n",
              "      <td>0.000050</td>\n",
              "    </tr>\n",
              "    <tr>\n",
              "      <th>default_ind</th>\n",
              "      <td>0</td>\n",
              "      <td>0.000000</td>\n",
              "    </tr>\n",
              "    <tr>\n",
              "      <th>mvar14</th>\n",
              "      <td>0</td>\n",
              "      <td>0.000000</td>\n",
              "    </tr>\n",
              "  </tbody>\n",
              "</table>\n",
              "</div>"
            ],
            "text/plain": [
              "             Total   Percent\n",
              "mvar40       62557  0.781963\n",
              "mvar31       56218  0.702725\n",
              "mvar41       54578  0.682225\n",
              "mvar45       44855  0.560688\n",
              "mvar11       44819  0.560238\n",
              "mvar23       40248  0.503100\n",
              "mvar30       36417  0.455213\n",
              "mvar35       33014  0.412675\n",
              "mvar15       32067  0.400838\n",
              "mvar22       29124  0.364050\n",
              "mvar46       22789  0.284863\n",
              "mvar21       22561  0.282012\n",
              "mvar6        18964  0.237050\n",
              "mvar8        18964  0.237050\n",
              "mvar24       18902  0.236275\n",
              "mvar16       18510  0.231375\n",
              "mvar17       15846  0.198075\n",
              "mvar18       14771  0.184638\n",
              "mvar12       14078  0.175975\n",
              "mvar27       13209  0.165112\n",
              "mvar9        11408  0.142600\n",
              "mvar26       10610  0.132625\n",
              "mvar13        8352  0.104400\n",
              "mvar44        7745  0.096812\n",
              "mvar37        7706  0.096325\n",
              "mvar32        7706  0.096325\n",
              "mvar25        7706  0.096325\n",
              "mvar7         7394  0.092425\n",
              "mvar39        6040  0.075500\n",
              "mvar2         5553  0.069413\n",
              "mvar1         3639  0.045488\n",
              "mvar36        2898  0.036225\n",
              "mvar42        1901  0.023762\n",
              "mvar33        1751  0.021888\n",
              "mvar43         818  0.010225\n",
              "mvar20         502  0.006275\n",
              "mvar34         502  0.006275\n",
              "mvar29         502  0.006275\n",
              "mvar28         502  0.006275\n",
              "mvar38         502  0.006275\n",
              "mvar10         502  0.006275\n",
              "mvar5          501  0.006262\n",
              "mvar3          501  0.006262\n",
              "mvar4          501  0.006262\n",
              "mvar19           4  0.000050\n",
              "default_ind      0  0.000000\n",
              "mvar14           0  0.000000"
            ]
          },
          "metadata": {
            "tags": []
          },
          "execution_count": 36
        }
      ]
    },
    {
      "metadata": {
        "id": "yZhJKUpvVCwo",
        "colab_type": "code",
        "colab": {}
      },
      "cell_type": "code",
      "source": [
        "#Creating y_train by saving saved labels into it\n",
        "y_train = df_train['default_ind']"
      ],
      "execution_count": 0,
      "outputs": []
    },
    {
      "metadata": {
        "id": "dfz6HgUCztUL",
        "colab_type": "text"
      },
      "cell_type": "markdown",
      "source": [
        "Dropped mvar6 because it was having minimum credit value and credit score should not depend much on that.\n",
        "It worked well\n"
      ]
    },
    {
      "metadata": {
        "id": "xUZ3iDCJGa1V",
        "colab_type": "code",
        "colab": {}
      },
      "cell_type": "code",
      "source": [
        "#Dropping features from train and predict dataset which are of no use\n",
        "df_train = df_train.drop(['mvar6', 'mvar11', 'mvar15', 'mvar21', 'mvar22', 'mvar23', 'mvar30', 'mvar31', 'mvar35', 'mvar40', 'mvar41', 'mvar45','default_ind'], axis=1)\n",
        "df_predict = df_predict.drop(['mvar6', 'mvar11', 'mvar15', 'mvar21', 'mvar22', 'mvar23', 'mvar30', 'mvar31', 'mvar35', 'mvar40', 'mvar41', 'mvar45'], axis=1)"
      ],
      "execution_count": 0,
      "outputs": []
    },
    {
      "metadata": {
        "id": "A6z0iY3H4Stx",
        "colab_type": "code",
        "colab": {}
      },
      "cell_type": "code",
      "source": [
        "#Taking mean to impute missing data points of train dataset\n",
        "X_train['mvar1'].fillna(X_train['mvar1'].mean(), inplace=True)\n",
        "X_train['mvar2'].fillna(X_train['mvar2'].mean(), inplace=True)\n",
        "X_train['mvar3'].fillna(X_train['mvar3'].mean(), inplace=True)\n",
        "X_train['mvar4'].fillna(X_train['mvar4'].mean(), inplace=True)\n",
        "X_train['mvar5'].fillna(X_train['mvar5'].mean(), inplace=True)\n",
        "#X_train['mvar6'].fillna(X_train['mvar6'].mean(), inplace=True)\n",
        "X_train['mvar7'].fillna(X_train['mvar7'].mean(), inplace=True)\n",
        "X_train['mvar8'].fillna(X_train['mvar8'].mean(), inplace=True)\n",
        "X_train['mvar9'].fillna(X_train['mvar9'].mean(), inplace=True)\n",
        "X_train['mvar10'].fillna(X_train['mvar10'].mean(), inplace=True)\n",
        "X_train['mvar12'].fillna(X_train['mvar12'].mean(), inplace=True)\n",
        "X_train['mvar13'].fillna(X_train['mvar13'].mean(), inplace=True)\n",
        "X_train['mvar16'].fillna(X_train['mvar16'].mean(), inplace=True)\n",
        "X_train['mvar17'].fillna(X_train['mvar17'].mean(), inplace=True)\n",
        "X_train['mvar18'].fillna(X_train['mvar18'].mean(), inplace=True)\n",
        "X_train['mvar19'].fillna(X_train['mvar19'].mean(), inplace=True)\n",
        "X_train['mvar20'].fillna(X_train['mvar20'].mean(), inplace=True)\n",
        "X_train['mvar24'].fillna(X_train['mvar24'].mean(), inplace=True)\n",
        "X_train['mvar25'].fillna(X_train['mvar25'].mean(), inplace=True)\n",
        "X_train['mvar26'].fillna(X_train['mvar26'].mean(), inplace=True)\n",
        "X_train['mvar27'].fillna(X_train['mvar27'].mean(), inplace=True)\n",
        "X_train['mvar28'].fillna(X_train['mvar28'].mean(), inplace=True)\n",
        "X_train['mvar29'].fillna(X_train['mvar29'].mean(), inplace=True)\n",
        "X_train['mvar32'].fillna(X_train['mvar32'].mean(), inplace=True)\n",
        "X_train['mvar33'].fillna(X_train['mvar33'].mean(), inplace=True)\n",
        "X_train['mvar42'].fillna(X_train['mvar42'].mean(), inplace=True)\n",
        "X_train['mvar43'].fillna(X_train['mvar43'].mean(), inplace=True)\n",
        "X_train['mvar44'].fillna(X_train['mvar44'].mean(), inplace=True)\n",
        "\n",
        "#Imputing all missing values by mode\n",
        "X_train['mvar34'].fillna(X_train['mvar34'].mean(), inplace=True)\n",
        "X_train['mvar36'].fillna(X_train['mvar36'].mean(), inplace=True)\n",
        "X_train['mvar37'].fillna(X_train['mvar37'].mean(), inplace=True)\n",
        "X_train['mvar38'].fillna(X_train['mvar38'].mean(), inplace=True)\n",
        "X_train['mvar39'].fillna(X_train['mvar39'].mean(), inplace=True)\n",
        "#X_train['mvar46'].fillna(X_train['mvar46'].mean(), inplace=True)\n",
        "\n",
        "#Imputing all missing values by 0 because it is occuring very frequntly\n",
        "#X_train['mvar46'].fillna(0, inplace=True)"
      ],
      "execution_count": 0,
      "outputs": []
    },
    {
      "metadata": {
        "id": "uX3QhahTRewU",
        "colab_type": "code",
        "colab": {
          "base_uri": "https://localhost:8080/",
          "height": 279
        },
        "outputId": "982a5959-7065-4e33-9185-8a2e40a0e2b5"
      },
      "cell_type": "code",
      "source": [
        "sns.distplot(X_train['mvar2']);"
      ],
      "execution_count": 136,
      "outputs": [
        {
          "output_type": "display_data",
          "data": {
            "image/png": "[encoded data removed]",
            "text/plain": [
              "<matplotlib.figure.Figure at 0x7f462d3e3160>"
            ]
          },
          "metadata": {
            "tags": []
          }
        }
      ]
    },
    {
      "metadata": {
        "id": "I2jZuPx5Vjnd",
        "colab_type": "code",
        "colab": {
          "base_uri": "https://localhost:8080/",
          "height": 596
        },
        "outputId": "381179ef-406a-484a-fb00-79b1d77f6d2a"
      },
      "cell_type": "code",
      "source": [
        "corrmat = X_train.corr()\n",
        "f, ax = plt.subplots(figsize=(12, 9))\n",
        "sns.heatmap(corrmat, vmax=.8, square=True);"
      ],
      "execution_count": 134,
      "outputs": [
        {
          "output_type": "display_data",
          "data": {
            "image/png": "[encoded data removed]",
            "text/plain": [
              "<matplotlib.figure.Figure at 0x7f462d16b390>"
            ]
          },
          "metadata": {
            "tags": []
          }
        }
      ]
    },
    {
      "metadata": {
        "id": "t53vjjEbG3Q0",
        "colab_type": "code",
        "colab": {}
      },
      "cell_type": "code",
      "source": [
        "#Taking mean to impute datapoints of predict dataset\n",
        "X_predict['mvar1'].fillna(X_predict['mvar1'].mean(), inplace=True)\n",
        "X_predict['mvar2'].fillna(X_predict['mvar2'].mean(), inplace=True)\n",
        "X_predict['mvar3'].fillna(X_predict['mvar3'].mean(), inplace=True)\n",
        "X_predict['mvar4'].fillna(X_predict['mvar4'].mean(), inplace=True)\n",
        "X_predict['mvar5'].fillna(X_predict['mvar5'].mean(), inplace=True)\n",
        "#X_predict['mvar6'].fillna(X_predict['mvar6'].mean(), inplace=True)\n",
        "X_predict['mvar7'].fillna(X_predict['mvar7'].mean(), inplace=True)\n",
        "X_predict['mvar8'].fillna(X_predict['mvar8'].mean(), inplace=True)\n",
        "X_predict['mvar9'].fillna(X_predict['mvar9'].mean(), inplace=True)\n",
        "X_predict['mvar10'].fillna(X_predict['mvar10'].mean(), inplace=True)\n",
        "X_predict['mvar12'].fillna(X_predict['mvar12'].mean(), inplace=True)\n",
        "X_predict['mvar13'].fillna(X_predict['mvar13'].mean(), inplace=True)\n",
        "X_predict['mvar16'].fillna(X_predict['mvar16'].mean(), inplace=True)\n",
        "X_predict['mvar17'].fillna(X_predict['mvar17'].mean(), inplace=True)\n",
        "X_predict['mvar18'].fillna(X_predict['mvar18'].mean(), inplace=True)\n",
        "X_predict['mvar19'].fillna(X_predict['mvar19'].mean(), inplace=True)\n",
        "X_predict['mvar20'].fillna(X_predict['mvar20'].mean(), inplace=True)\n",
        "X_predict['mvar24'].fillna(X_predict['mvar24'].mean(), inplace=True)\n",
        "X_predict['mvar25'].fillna(X_predict['mvar25'].mean(), inplace=True)\n",
        "X_predict['mvar26'].fillna(X_predict['mvar26'].mean(), inplace=True)\n",
        "X_predict['mvar27'].fillna(X_predict['mvar27'].mean(), inplace=True)\n",
        "X_predict['mvar28'].fillna(X_predict['mvar28'].mean(), inplace=True)\n",
        "X_predict['mvar29'].fillna(X_predict['mvar29'].mean(), inplace=True)\n",
        "X_predict['mvar32'].fillna(X_predict['mvar32'].mean(), inplace=True)\n",
        "X_predict['mvar33'].fillna(X_predict['mvar33'].mean(), inplace=True)\n",
        "X_predict['mvar42'].fillna(X_predict['mvar42'].mean(), inplace=True)\n",
        "X_predict['mvar43'].fillna(X_predict['mvar43'].mean(), inplace=True)\n",
        "X_predict['mvar44'].fillna(X_predict['mvar44'].mean(), inplace=True)\n",
        "\n",
        "#Imputing all missing values by mode\n",
        "X_predict['mvar34'].fillna(X_predict['mvar34'].mean(), inplace=True)\n",
        "X_predict['mvar36'].fillna(X_predict['mvar36'].mean(), inplace=True)\n",
        "X_predict['mvar37'].fillna(X_predict['mvar37'].mean(), inplace=True)\n",
        "X_predict['mvar38'].fillna(X_predict['mvar38'].mean(), inplace=True)\n",
        "X_predict['mvar39'].fillna(X_predict['mvar39'].mean(), inplace=True)\n",
        "#X_predict['mvar46'].fillna(X_predict['mvar46'].mode(), inplace=True)\n",
        "\n",
        "#Imputing all missing values by 0 because it is occuring very frequntly\n",
        "#X_predict['mvar46'].fillna(0, inplace=True)"
      ],
      "execution_count": 0,
      "outputs": []
    },
    {
      "metadata": {
        "id": "wj7EHfYJsZ43",
        "colab_type": "code",
        "colab": {}
      },
      "cell_type": "code",
      "source": [
        "#Making var2 values int to simplify data points(Logic is that it is score which needs to be simple)\n",
        "X_train['mvar2'] = X_train['mvar2'].astype(int)\n",
        "#X_train['mvar3'] = X_train['mvar3'].astype(int)"
      ],
      "execution_count": 0,
      "outputs": []
    },
    {
      "metadata": {
        "id": "1EZ5EgXUCWLo",
        "colab_type": "code",
        "colab": {}
      },
      "cell_type": "code",
      "source": [
        "#Label C = 0 and L = 1 in both train and predict data set\n",
        "var_mod = ['mvar47']\n",
        "le = LabelEncoder()\n",
        "for i in var_mod:\n",
        "    X_train[i] = le.fit_transform(X_train[i])\n",
        "\n",
        "for i in var_mod:\n",
        "    X_predict[i] = le.fit_transform(X_predict[i])"
      ],
      "execution_count": 0,
      "outputs": []
    },
    {
      "metadata": {
        "id": "FoBkgnZX42F-",
        "colab_type": "code",
        "colab": {}
      },
      "cell_type": "code",
      "source": [
        "#Defining classification and prediction model\n",
        "def classification_model(model, X_train, y_train):\n",
        "  model.fit(X_train , y_train)\n",
        "  \n",
        "  predictions = model.predict(X_train)\n",
        "  \n",
        "  accuracy = metrics.accuracy_score(predictions , y_train)\n",
        "  print (\"Accuracy : %s\" % \"{0:.3%}\".format(accuracy))\n",
        "  \n",
        "  kf = KFold(X_train.shape[0], n_folds=5)\n",
        "  error = []\n",
        "  \n",
        "  for train, test in kf:\n",
        "    train_predictors = (X_train.iloc[train,:])\n",
        "    train_target = y_train.iloc[train]\n",
        "    model.fit(train_predictors , train_target)\n",
        "    error.append(model.score(X_train.iloc[test,:], y_train.iloc[test]))\n",
        "  print (\"Cross-Validation Score : %s\" % \"{0:.3%}\".format(np.mean(error)))\n",
        "  \n",
        "  model.fit(X_train , y_train)\n",
        "\n",
        "def predict_model(model , X_test):\n",
        "  y_test = model.predict(X_test)\n",
        "  return y_test"
      ],
      "execution_count": 0,
      "outputs": []
    },
    {
      "metadata": {
        "id": "0b0rPHfi4-_E",
        "colab_type": "code",
        "colab": {}
      },
      "cell_type": "code",
      "source": [
        "#Split trainset to train and test set\n",
        "train_X, test_X, train_y, test_y = train_test_split(X_train, y_train, test_size=0.25)"
      ],
      "execution_count": 0,
      "outputs": []
    },
    {
      "metadata": {
        "id": "kHhFrRBq5CPX",
        "colab_type": "code",
        "colab": {
          "base_uri": "https://localhost:8080/",
          "height": 89
        },
        "outputId": "51500803-d95d-44e1-c02e-2a1e65f9b5fd"
      },
      "cell_type": "code",
      "source": [
        "#XGB Classifier (Till Now giving best score)\n",
        "model = XGBClassifier()\n",
        "model.fit(train_X , train_y)\n",
        "y_pred = model.predict(test_X)\n",
        "#predictions = [round(value) for value in y_pred]\n",
        "#predict = np.array(predictions)\n",
        "accuracy = metrics.accuracy_score(y_pred , test_y)\n",
        "print (\"Accuracy:\", accuracy) "
      ],
      "execution_count": 30,
      "outputs": [
        {
          "output_type": "stream",
          "text": [
            "Accuracy: 0.8076\n"
          ],
          "name": "stdout"
        },
        {
          "output_type": "stream",
          "text": [
            "/usr/local/lib/python3.6/dist-packages/sklearn/preprocessing/label.py:151: DeprecationWarning: The truth value of an empty array is ambiguous. Returning False, but in future this will result in an error. Use `array.size > 0` to check that an array is not empty.\n",
            "  if diff:\n"
          ],
          "name": "stderr"
        }
      ]
    },
    {
      "metadata": {
        "id": "RcWqoyUVHo5-",
        "colab_type": "code",
        "colab": {
          "base_uri": "https://localhost:8080/",
          "height": 72
        },
        "outputId": "3ac20ebe-e44a-4720-f0f4-a732750c6e08"
      },
      "cell_type": "code",
      "source": [
        "#Predict the labels and save the label in csv file\n",
        "y_predict = predict_model(model , X_predict)\n",
        "output = pd.DataFrame({'Application Key': df_predict.application_key, 'Prediction': y_predict})\n",
        "output.to_csv('Phineas&Ferb_IITKharagpur_10.csv', index=False)"
      ],
      "execution_count": 31,
      "outputs": [
        {
          "output_type": "stream",
          "text": [
            "/usr/local/lib/python3.6/dist-packages/sklearn/preprocessing/label.py:151: DeprecationWarning: The truth value of an empty array is ambiguous. Returning False, but in future this will result in an error. Use `array.size > 0` to check that an array is not empty.\n",
            "  if diff:\n"
          ],
          "name": "stderr"
        }
      ]
    },
    {
      "metadata": {
        "id": "r8T8qLLzVhgM",
        "colab_type": "code",
        "colab": {}
      },
      "cell_type": "code",
      "source": [
        ""
      ],
      "execution_count": 0,
      "outputs": []
    },
    {
      "metadata": {
        "id": "7gqNuYnx6mTt",
        "colab_type": "code",
        "colab": {
          "base_uri": "https://localhost:8080/",
          "height": 52
        },
        "outputId": "ab4351ea-0dff-49f0-e0e4-efd3b0305131"
      },
      "cell_type": "code",
      "source": [
        "model = LogisticRegression()\n",
        "classification_model(model , X_train , y_train)"
      ],
      "execution_count": 167,
      "outputs": [
        {
          "output_type": "stream",
          "text": [
            "Accuracy : 76.184%\n",
            "Cross-Validation Score : 75.910%\n"
          ],
          "name": "stdout"
        }
      ]
    },
    {
      "metadata": {
        "id": "FGwWKvFJC4VZ",
        "colab_type": "code",
        "colab": {
          "base_uri": "https://localhost:8080/",
          "height": 52
        },
        "outputId": "156d4212-514a-42f9-aecf-1ba0972ae0d9"
      },
      "cell_type": "code",
      "source": [
        "#model = RandomForestClassifier(n_estimators=10)\n",
        "#classification_model(model , X_train , y_train)"
      ],
      "execution_count": 0,
      "outputs": [
        {
          "output_type": "stream",
          "text": [
            "Accuracy : 98.377%\n",
            "Cross-Validation Score : 78.723%\n"
          ],
          "name": "stdout"
        }
      ]
    },
    {
      "metadata": {
        "id": "5i6QeAiWDFTc",
        "colab_type": "code",
        "colab": {
          "base_uri": "https://localhost:8080/",
          "height": 52
        },
        "outputId": "dee0e2e0-2401-4704-e7d5-81a746f5f6f3"
      },
      "cell_type": "code",
      "source": [
        "#model = DecisionTreeClassifier()\n",
        "#classification_model(model , X_train , y_train)"
      ],
      "execution_count": 0,
      "outputs": [
        {
          "output_type": "stream",
          "text": [
            "Accuracy : 100.000%\n",
            "Cross-Validation Score : 71.059%\n"
          ],
          "name": "stdout"
        }
      ]
    },
    {
      "metadata": {
        "id": "pYobraGwDNvW",
        "colab_type": "code",
        "colab": {
          "base_uri": "https://localhost:8080/",
          "height": 34
        },
        "outputId": "c8acc3e4-fd5c-430e-cb05-ec2aba4da6be"
      },
      "cell_type": "code",
      "source": [
        "#model = GaussianNB()\n",
        "#model.fit(train_X , train_y)\n",
        "#test_pred = model.predict(test_X)\n",
        "#accuracy = metrics.accuracy_score(test_pred , test_y)\n",
        "#print (\"Accuracy:\", accuracy) "
      ],
      "execution_count": 0,
      "outputs": [
        {
          "output_type": "stream",
          "text": [
            "Accuracy: 0.5127\n"
          ],
          "name": "stdout"
        }
      ]
    },
    {
      "metadata": {
        "id": "TpXFKtPADXRZ",
        "colab_type": "code",
        "colab": {}
      },
      "cell_type": "code",
      "source": [
        "#model = Perceptron(random_state=42,max_iter=10000)\n",
        "#model.fit(train_X, train_y)\n",
        "#test_pred = model.predict(test_X)\n",
        "#accuracy = metrics.accuracy_score(test_pred , test_y)\n",
        "#print (\"Accuracy:\", accuracy)"
      ],
      "execution_count": 0,
      "outputs": []
    },
    {
      "metadata": {
        "id": "uWNv4oNtDdm-",
        "colab_type": "code",
        "colab": {}
      },
      "cell_type": "code",
      "source": [
        ""
      ],
      "execution_count": 0,
      "outputs": []
    }
  ]
}